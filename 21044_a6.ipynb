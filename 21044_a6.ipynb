{
 "cells": [
  {
   "cell_type": "code",
   "execution_count": 3,
   "metadata": {},
   "outputs": [],
   "source": [
    "I_TRUE = 1.6405\n",
    "a , b = 0, 0.8\n",
    "def f(x):\n",
    "    return 0.2 +25*x - 200*x**2 + 675*x**3 - 900*x**4 + 400*x**5"
   ]
  },
  {
   "cell_type": "code",
   "execution_count": 9,
   "metadata": {},
   "outputs": [
    {
     "name": "stdout",
     "output_type": "stream",
     "text": [
      "0.1728000000000225\n",
      "89.46662602864843\n"
     ]
    }
   ],
   "source": [
    "i_trap = (b - a)*(f(b) + f(a))/2\n",
    "print(i_trap)\n",
    "error = (I_TRUE - i_trap)/I_TRUE*100\n",
    "print(error)"
   ]
  },
  {
   "cell_type": "code",
   "execution_count": 10,
   "metadata": {},
   "outputs": [
    {
     "name": "stdout",
     "output_type": "stream",
     "text": [
      "1.3674666666666744\n",
      "16.643299806968955\n"
     ]
    }
   ],
   "source": [
    "i_simp = (b - a)*(f(a) + f(b) + 4*f((a+b)/2))/6\n",
    "print(i_simp)\n",
    "error = (I_TRUE - i_simp)/I_TRUE*100\n",
    "print(error)"
   ]
  },
  {
   "cell_type": "code",
   "execution_count": 11,
   "metadata": {},
   "outputs": [
    {
     "name": "stdout",
     "output_type": "stream",
     "text": [
      "1.519170370370378\n",
      "7.39589330262859\n"
     ]
    }
   ],
   "source": [
    "i_simp2 = (b - a)*(f(a) + f(b) + 3*f((a+b)/3) + 3*f(2*(a+b)/3))/8\n",
    "print(i_simp2)\n",
    "error = (I_TRUE - i_simp2)/I_TRUE*100\n",
    "print(error)"
   ]
  },
  {
   "cell_type": "markdown",
   "metadata": {},
   "source": [
    "# Multi Trapezoidal and Multi Simpson"
   ]
  },
  {
   "cell_type": "code",
   "execution_count": 34,
   "metadata": {},
   "outputs": [],
   "source": [
    "def multi_trap(n):\n",
    "    h = (b-a)/n\n",
    "    \n",
    "    sum = 0\n",
    "    for i in range(1,n):\n",
    "        sum += f(i*h)\n",
    "\n",
    "    i = (b-a)*(f(a) + 2*sum + f(b))/(2*n)\n",
    "    error = abs((I_TRUE - i)/I_TRUE*100)\n",
    "    return error\n",
    "\n",
    "\n"
   ]
  },
  {
   "cell_type": "code",
   "execution_count": 35,
   "metadata": {},
   "outputs": [],
   "source": [
    "def multi_simp(n):\n",
    "    h = (b-a)/n\n",
    "\n",
    "    sum1, sum2 = 0, 0\n",
    "    for i in range(1,n):\n",
    "        if(i%2==1):\n",
    "            sum1 += f(i*h)\n",
    "        else:\n",
    "            sum2 += f(i*h)\n",
    "\n",
    "    i = (b-a)*(f(a) + 4*sum1 + 2*sum2 + f(b))/(3*n)\n",
    "    error = abs((I_TRUE - i)/I_TRUE*100)\n",
    "    return error\n",
    "\n"
   ]
  },
  {
   "cell_type": "code",
   "execution_count": 40,
   "metadata": {},
   "outputs": [
    {
     "name": "stdout",
     "output_type": "stream",
     "text": [
      "[2, 4, 8, 16, 32, 64, 128, 256, 512]\n"
     ]
    }
   ],
   "source": [
    "segments = [2**i for i in range(1,10)]\n",
    "print(segments)\n",
    "multi_trap_error = [multi_trap(n) for n in segments]\n",
    "multi_simp_error = [multi_simp(n) for n in segments]\n"
   ]
  },
  {
   "cell_type": "code",
   "execution_count": 42,
   "metadata": {},
   "outputs": [
    {
     "name": "stdout",
     "output_type": "stream",
     "text": [
      "0.002022599539767755\n"
     ]
    },
    {
     "data": {
      "text/plain": [
       "[<matplotlib.lines.Line2D at 0x7be2c6bb6fe0>]"
      ]
     },
     "execution_count": 42,
     "metadata": {},
     "output_type": "execute_result"
    },
    {
     "data": {
      "image/png": "[encoded data removed]",
      "text/plain": [
       "<Figure size 640x480 with 1 Axes>"
      ]
     },
     "metadata": {},
     "output_type": "display_data"
    }
   ],
   "source": [
    "import matplotlib.pyplot as plt\n",
    "print(multi_trap(4096))\n",
    "plt.yscale('log')\n",
    "plt.plot(segments, multi_trap_error)\n",
    "plt.plot(segments,multi_simp_error) "
   ]
  }
 ],
 "metadata": {
  "kernelspec": {
   "display_name": "Python 3",
   "language": "python",
   "name": "python3"
  },
  "language_info": {
   "codemirror_mode": {
    "name": "ipython",
    "version": 3
   },
   "file_extension": ".py",
   "mimetype": "text/x-python",
   "name": "python",
   "nbconvert_exporter": "python",
   "pygments_lexer": "ipython3",
   "version": "3.10.12"
  }
 },
 "nbformat": 4,
 "nbformat_minor": 2
}
