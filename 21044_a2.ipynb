{
 "cells": [
  {
   "cell_type": "code",
   "execution_count": 1,
   "metadata": {},
   "outputs": [],
   "source": [
    "import math\n",
    "import numpy as np\n"
   ]
  },
  {
   "cell_type": "code",
   "execution_count": 35,
   "metadata": {},
   "outputs": [],
   "source": [
    "'''3x1 - 0.1x2 - 0.2x3 = 7.85\n",
    "0.1x1 + 7x2 - 0.3x3 = -19.3\n",
    "0.3x1 - 0.2x2 + 10x3 = 71.4'''\n",
    "\n",
    "a = [[3, -0.1, -0.2], [0.1, 7, -0.3], [0.3, -0.2, 10]]\n",
    "b= [7.85, -19.3, 71.4]\n",
    "\n"
   ]
  },
  {
   "cell_type": "code",
   "execution_count": 18,
   "metadata": {},
   "outputs": [],
   "source": [
    "def naive_gauss(a, b, n):\n",
    "\n",
    "    for k in range(0, n-1):\n",
    "        for i in range(k+1, n):\n",
    "            fac = a[i][k]/a[k][k]\n",
    "            for j in range(k+1, n):\n",
    "                a[i][j] = a[i][j] - fac*a[k][j]\n",
    "            b[i] = b[i] - fac*b[k]\n",
    "\n",
    "    x = [0 for i in range(n)]\n",
    "    x[n-1] = b[n-1]/a[n-1][n-1]\n",
    "\n",
    "    for i in range(n-2, -1, -1):\n",
    "        sum = b[i]\n",
    "        for j in range(i+1, n):\n",
    "            sum = sum - a[i][j]*x[j]\n",
    "        x[i] = sum/a[i][i]\n",
    "\n",
    "    print(*a)\n",
    "    print()\n",
    "    print(*b)\n",
    "    print()\n",
    "    return x\n",
    "    \n"
   ]
  },
  {
   "cell_type": "code",
   "execution_count": 19,
   "metadata": {},
   "outputs": [
    {
     "name": "stdout",
     "output_type": "stream",
     "text": [
      "[3, -0.1, -0.2] [0.1, 7.003333333333333, -0.29333333333333333] [0.3, -0.19, 10.012041884816753]\n",
      "\n",
      "7.85 -19.561666666666667 70.08429319371729\n",
      "\n",
      "x1= 3.0\n",
      "x2= -2.5\n",
      "x3= 7.000000000000002\n",
      "[7.85, -19.261666666666667, 71.45929319371729]\n"
     ]
    }
   ],
   "source": [
    "x = naive_gauss(a,b,3)\n",
    "print('x1=',x[0])\n",
    "print('x2=',x[1])\n",
    "print('x3=',x[2])\n",
    "\n",
    "b1 = []\n",
    "for i in range(3):\n",
    "    b1.append(a[i][0]*x[0]+a[i][1]*x[1]+a[i][2]*x[2])        \n",
    "\n",
    "print(b1)"
   ]
  },
  {
   "cell_type": "code",
   "execution_count": 59,
   "metadata": {},
   "outputs": [
    {
     "name": "stdout",
     "output_type": "stream",
     "text": [
      "[1.0, 0.0, 0.0] [0.0, 1.0, 0.0] [0.0, 0.0, 1.0]\n",
      "\n",
      "3.0 -2.5 7.000000000000002\n",
      "\n"
     ]
    }
   ],
   "source": [
    "def gauss_jordan(a, b, n):\n",
    "\n",
    "    for i in range(n):\n",
    "        b[i]= b[i]/a[i][i]\n",
    "        a[i][:] = [x / a[i][i] for x in a[i]]\n",
    "        # a[i]= a[i]/a[i][i]\n",
    "\n",
    "        for j in range(n):\n",
    "            if(i!=j):\n",
    "                fac = a[j][i]\n",
    "                for k in range(n):\n",
    "                    a[j][k] = a[j][k] - fac*a[i][k]\n",
    "                b[j] = b[j] - fac*b[i]\n",
    "                \n",
    "\n",
    "                    \n",
    "print(*a)\n",
    "print()\n",
    "print(*b)\n",
    "print()"
   ]
  },
  {
   "cell_type": "code",
   "execution_count": 60,
   "metadata": {},
   "outputs": [],
   "source": [
    "a = [[3, -0.1, -0.2], [0.1, 7, -0.3], [0.3, -0.2, 10]]\n",
    "b= [7.85, -19.3, 71.4]\n",
    "\n",
    "gauss_jordan(a,b,3)"
   ]
  },
  {
   "cell_type": "code",
   "execution_count": null,
   "metadata": {},
   "outputs": [],
   "source": []
  }
 ],
 "metadata": {
  "kernelspec": {
   "display_name": "Python 3",
   "language": "python",
   "name": "python3"
  },
  "language_info": {
   "codemirror_mode": {
    "name": "ipython",
    "version": 3
   },
   "file_extension": ".py",
   "mimetype": "text/x-python",
   "name": "python",
   "nbconvert_exporter": "python",
   "pygments_lexer": "ipython3",
   "version": "3.10.12"
  }
 },
 "nbformat": 4,
 "nbformat_minor": 2
}
