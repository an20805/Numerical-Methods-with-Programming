{
 "cells": [
  {
   "cell_type": "code",
   "execution_count": 1,
   "metadata": {},
   "outputs": [],
   "source": [
    "import math\n",
    "import numpy as np\n"
   ]
  },
  {
   "cell_type": "code",
   "execution_count": 30,
   "metadata": {},
   "outputs": [],
   "source": [
    "'''3x1 - 0.1x2 - 0.2x3 = 7.85\n",
    "0.1x1 + 7x2 - 0.3x3 = -19.3\n",
    "0.3x1 - 0.2x2 + 10x3 = 71.4'''\n",
    "\n",
    "a = [[3, -0.1, -0.2], [0.1, 7, -0.3], [0.3, -0.2, 10]]\n",
    "b= [7.85, -19.3, 71.4]\n"
   ]
  },
  {
   "cell_type": "code",
   "execution_count": 31,
   "metadata": {},
   "outputs": [],
   "source": [
    "def LU(A, n):\n",
    "    a = [[j for j in i] for i in A]\n",
    "    l = [[0 for j in range(n)] for i in range(n)]\n",
    "    for i in range(3):\n",
    "        for j in range(3):\n",
    "            if j==i:\n",
    "                l[i][j]=1\n",
    "\n",
    "    for k in range(n-1):\n",
    "        for i in range(k+1, n):\n",
    "            fac = a[i][k]/a[k][k]\n",
    "            l[i][k] = fac\n",
    "            for j in range(k,n):\n",
    "                a[i][j] = a[i][j] - fac*a[k][j]\n",
    "\n",
    "    return a, l\n"
   ]
  },
  {
   "cell_type": "code",
   "execution_count": 43,
   "metadata": {},
   "outputs": [
    {
     "name": "stdout",
     "output_type": "stream",
     "text": [
      "L: [1, 0, 0] [0.03333333333333333, 1, 0] [0.09999999999999999, -0.027129938124702525, 1]\n",
      "U: [3, -0.1, -0.2] [0.0, 7.003333333333333, -0.29333333333333333] [0.0, 0.0, 10.012041884816753]\n"
     ]
    }
   ],
   "source": [
    "u,l = LU(a,3)\n",
    "print('L:',*l)\n",
    "print('U:',*u)"
   ]
  },
  {
   "cell_type": "code",
   "execution_count": 44,
   "metadata": {},
   "outputs": [],
   "source": [
    "def forward_sub(L,B,n):\n",
    "        l = [[j for j in i] for i in L]\n",
    "        b = [x for x in B]\n",
    "        d = [0 for i in range(n)]\n",
    "\n",
    "        d[0] =  b[0]\n",
    "\n",
    "        for i in range(1,n):\n",
    "                sum = b[i]\n",
    "                for j in range(i):\n",
    "                        sum-= l[i][j]*d[j]\n",
    "                d[i] = sum\n",
    "\n",
    "        return d\n",
    "\n",
    "        \n",
    "\n"
   ]
  },
  {
   "cell_type": "code",
   "execution_count": 45,
   "metadata": {},
   "outputs": [
    {
     "name": "stdout",
     "output_type": "stream",
     "text": [
      "[7.85, -19.561666666666667, 70.08429319371729]\n"
     ]
    }
   ],
   "source": [
    "d = forward_sub(l,b,3)\n",
    "print(d)"
   ]
  },
  {
   "cell_type": "code",
   "execution_count": 46,
   "metadata": {},
   "outputs": [],
   "source": [
    "def backward_sub(U,D,n):\n",
    "        u = [[j for j in i] for i in U]\n",
    "        d = [x for x in D]\n",
    "        x = [0 for i in range(n)]\n",
    "\n",
    "        x[n-1] =  d[n-1]/u[n-1][n-1]\n",
    "\n",
    "        for i in range(n-2,-1,-1):\n",
    "                sum = d[i]\n",
    "                for j in range(i,n):\n",
    "                        sum-= u[i][j]*x[j]\n",
    "                x[i] = sum/u[i][i]\n",
    "\n",
    "        return x\n"
   ]
  },
  {
   "cell_type": "code",
   "execution_count": 47,
   "metadata": {},
   "outputs": [
    {
     "name": "stdout",
     "output_type": "stream",
     "text": [
      "[3.0, -2.5, 7.000000000000002]\n"
     ]
    }
   ],
   "source": [
    "x = backward_sub(u, d, 3)\n",
    "print(x)"
   ]
  },
  {
   "cell_type": "markdown",
   "metadata": {},
   "source": [
    "# Problem 2"
   ]
  },
  {
   "cell_type": "code",
   "execution_count": 49,
   "metadata": {},
   "outputs": [
    {
     "name": "stdout",
     "output_type": "stream",
     "text": [
      "[[0.33248872133984303, 0.004944070205796922, 0.006798096532970769], [-0.005181765888767928, 0.14290264460216873, 0.004183444020289704], [-0.01007829695797065, 0.0027097307858694676, 0.09987972598441668]]\n"
     ]
    }
   ],
   "source": [
    "d1 = forward_sub(l, [1,0,0], 3)\n",
    "d2 = forward_sub(l, [0,1,0], 3)\n",
    "d3 = forward_sub(l, [0,0,1], 3)\n",
    "\n",
    "x1 = backward_sub(u, d1, 3)\n",
    "x2 = backward_sub(u, d2, 3)\n",
    "x3 = backward_sub(u, d3, 3)\n",
    "\n",
    "A_inv = []\n",
    "for i in range(3):\n",
    "    A_inv.append([x1[i], x2[i], x3[i]])\n",
    "\n",
    "print(A_inv)\n",
    "\n",
    "\n"
   ]
  },
  {
   "cell_type": "code",
   "execution_count": null,
   "metadata": {},
   "outputs": [],
   "source": []
  }
 ],
 "metadata": {
  "kernelspec": {
   "display_name": "Python 3",
   "language": "python",
   "name": "python3"
  },
  "language_info": {
   "codemirror_mode": {
    "name": "ipython",
    "version": 3
   },
   "file_extension": ".py",
   "mimetype": "text/x-python",
   "name": "python",
   "nbconvert_exporter": "python",
   "pygments_lexer": "ipython3",
   "version": "3.10.12"
  }
 },
 "nbformat": 4,
 "nbformat_minor": 2
}
